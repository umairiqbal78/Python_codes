{
 "cells": [
  {
   "cell_type": "markdown",
   "metadata": {},
   "source": [
    "# IF statements"
   ]
  },
  {
   "cell_type": "code",
   "execution_count": 1,
   "metadata": {},
   "outputs": [],
   "source": [
    "# checking condition of values"
   ]
  },
  {
   "cell_type": "code",
   "execution_count": 3,
   "metadata": {},
   "outputs": [],
   "source": [
    "a=3\n",
    "b=4"
   ]
  },
  {
   "cell_type": "code",
   "execution_count": 5,
   "metadata": {},
   "outputs": [
    {
     "data": {
      "text/plain": [
       "True"
      ]
     },
     "execution_count": 5,
     "metadata": {},
     "output_type": "execute_result"
    }
   ],
   "source": [
    "a<=b"
   ]
  },
  {
   "cell_type": "code",
   "execution_count": 6,
   "metadata": {},
   "outputs": [
    {
     "data": {
      "text/plain": [
       "False"
      ]
     },
     "execution_count": 6,
     "metadata": {},
     "output_type": "execute_result"
    }
   ],
   "source": [
    "a!=b"
   ]
  },
  {
   "cell_type": "code",
   "execution_count": 10,
   "metadata": {},
   "outputs": [
    {
     "name": "stdout",
     "output_type": "stream",
     "text": [
      "2 is greater than 1\n",
      "2 is greater than 1\n",
      "2 is greater than 1\n"
     ]
    }
   ],
   "source": [
    "a=2\n",
    "b=1\n",
    "if a>b:\n",
    "    #indentation (one tab space)\n",
    "    #same indent is running it means function of body is same mean code is running under this function\n",
    "    print(f\"{a} is greater than {b}\")\n",
    "    print(f\"{a} is greater than {b}\")\n",
    "    print(f\"{a} is greater than {b}\")\n",
    "    "
   ]
  },
  {
   "cell_type": "code",
   "execution_count": 2,
   "metadata": {},
   "outputs": [
    {
     "name": "stdout",
     "output_type": "stream",
     "text": [
      "enter a number: 2\n",
      "enter another number: 1\n",
      "2 is greater than 1\n",
      "2 is greater than 1\n"
     ]
    }
   ],
   "source": [
    "a=input(\"enter a number: \")\n",
    "b=input(\"enter another number: \")\n",
    "\n",
    "if a>b:\n",
    "    print(f\"{a} is greater than {b}\")\n",
    "    print(f\"{a} is greater than {b}\")\n",
    "else:\n",
    "        print(\"Else block is executing\")\n",
    "        print(f\"{b} is greater than {a}\")\n",
    "        "
   ]
  },
  {
   "cell_type": "markdown",
   "metadata": {},
   "source": [
    "# nested ifs"
   ]
  },
  {
   "cell_type": "code",
   "execution_count": 17,
   "metadata": {},
   "outputs": [
    {
     "name": "stdout",
     "output_type": "stream",
     "text": [
      "enter age12\n",
      "you are not allowed\n"
     ]
    }
   ],
   "source": [
    "age=int(input(\"enter age\"))\n",
    "if age>=18:\n",
    "    print(\"your age is valid\")\n",
    "    ticket=input(\"Enter ticket status\") .lower()\n",
    "    if ticket == 'yes':\n",
    "        print(\"your ticket is valid\")\n",
    "        print(\"you are allowed\")\n",
    "    else:\n",
    "        print(\"please buy ticket\")\n",
    "else:\n",
    "    print(\"you are not allowed\")"
   ]
  },
  {
   "cell_type": "code",
   "execution_count": 6,
   "metadata": {},
   "outputs": [
    {
     "name": "stdout",
     "output_type": "stream",
     "text": [
      "do you hava valid nic: yes\n",
      "is your name in list: yes\n",
      "you are allowed to cast your vote\n"
     ]
    }
   ],
   "source": [
    "CNIC = input(\"do you hava valid nic: \")\n",
    "lst = input('is your name in list: ').lower()\n",
    "if CNIC == 'yes' and lst == 'yes':\n",
    "    print('you are allowed to cast your vote')\n",
    "else:\n",
    "    print('not allowed')\n",
    "    \n"
   ]
  },
  {
   "cell_type": "code",
   "execution_count": 7,
   "metadata": {},
   "outputs": [
    {
     "name": "stdout",
     "output_type": "stream",
     "text": [
      "enter age: 11\n",
      "Enter ticket status: yes\n",
      "not allowed\n"
     ]
    }
   ],
   "source": [
    "age=int(input(\"enter age: \"))\n",
    "ticket=input(\"Enter ticket status: \") .lower()\n",
    "if age >= 18 and ticket == \"yes\":\n",
    "    print(\"you are allowed\")\n",
    "else:\n",
    "    print(\"not allowed\")\n",
    "    \n",
    "    \n",
    "    "
   ]
  },
  {
   "cell_type": "code",
   "execution_count": 7,
   "metadata": {},
   "outputs": [
    {
     "name": "stdout",
     "output_type": "stream",
     "text": [
      "do you hava valid nic: yes\n",
      "is your name in list: no\n",
      "not allowed\n"
     ]
    }
   ],
   "source": [
    "CNIC = input(\"do you hava valid nic: \")\n",
    "lst = input('is your name in list: ').lower()\n",
    "if CNIC == 'yes' and lst == 'yes':\n",
    "    print('you are allowed to cast your vote')\n",
    "else:\n",
    "    print('not allowed')\n",
    "    \n"
   ]
  },
  {
   "cell_type": "code",
   "execution_count": 8,
   "metadata": {},
   "outputs": [
    {
     "name": "stdout",
     "output_type": "stream",
     "text": [
      "Enter first number: 4\n",
      "Enter second number: 1\n",
      "a > b\n"
     ]
    }
   ],
   "source": [
    "a = input('Enter first number: ')\n",
    "b =input('Enter second number: ')\n",
    "\n",
    "if a == b:\n",
    "    print('all right')\n",
    "    \n",
    "elif a > b:\n",
    "    print(\"a > b\")\n",
    "    \n",
    "else:\n",
    "    print('check again')"
   ]
  },
  {
   "cell_type": "code",
   "execution_count": 5,
   "metadata": {},
   "outputs": [
    {
     "name": "stdout",
     "output_type": "stream",
     "text": [
      "do you have document: yes\n",
      "do you have money: yes\n",
      "you can go\n"
     ]
    }
   ],
   "source": [
    "# a =input('do you have document: ')\n",
    " b =input('do you have money: ')\n",
    "# if a == 'yes' and b == 'yes':\n",
    "#     print('you can go')\n",
    "    '''kdfkssdfksdkfksdfsdjfjksdfjkdjjk'''\n",
    "\n"
   ]
  },
  {
   "cell_type": "markdown",
   "metadata": {},
   "source": [
    "# ATM MAchine\n"
   ]
  },
  {
   "cell_type": "code",
   "execution_count": 3,
   "metadata": {},
   "outputs": [
    {
     "name": "stdout",
     "output_type": "stream",
     "text": [
      "deposit: no\n",
      "cash: yes\n",
      "transfer: no\n",
      "what is the cash amount700\n",
      "your remaining balance is 77\n"
     ]
    }
   ],
   "source": [
    "x = 777\n",
    "a =input('deposit: ')\n",
    "b =input('cash: ')\n",
    "c =input('transfer: ')\n",
    "if a== 'yes':    \n",
    "    c=int(input('what is deposit amount: '))\n",
    "    print({c+x})\n",
    "elif b == 'yes':\n",
    "    bb=int(input('what is the cash amount'))\n",
    "    print('your ')\n",
    "    z = 'your remaining balance is '+ str(x-bb)\n",
    "    print(z)\n",
    "    \n",
    "    \n",
    "    \n",
    "    \n",
    "    \n",
    "    \n",
    "    \n",
    "   \n",
    "\n",
    "    \n",
    "    "
   ]
  },
  {
   "cell_type": "code",
   "execution_count": null,
   "metadata": {},
   "outputs": [],
   "source": []
  }
 ],
 "metadata": {
  "kernelspec": {
   "display_name": "Python 3",
   "language": "python",
   "name": "python3"
  },
  "language_info": {
   "codemirror_mode": {
    "name": "ipython",
    "version": 3
   },
   "file_extension": ".py",
   "mimetype": "text/x-python",
   "name": "python",
   "nbconvert_exporter": "python",
   "pygments_lexer": "ipython3",
   "version": "3.7.3"
  }
 },
 "nbformat": 4,
 "nbformat_minor": 2
}
