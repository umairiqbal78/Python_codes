{
 "cells": [
  {
   "cell_type": "markdown",
   "metadata": {},
   "source": [
    "# Functions"
   ]
  },
  {
   "cell_type": "code",
   "execution_count": 3,
   "metadata": {},
   "outputs": [
    {
     "name": "stdout",
     "output_type": "stream",
     "text": [
      "yes sir\n"
     ]
    }
   ],
   "source": [
    "def greet_user():\n",
    "    print(\"yes sir\")\n",
    "greet_user()"
   ]
  },
  {
   "cell_type": "code",
   "execution_count": 5,
   "metadata": {},
   "outputs": [
    {
     "name": "stdout",
     "output_type": "stream",
     "text": [
      "yes sir\n"
     ]
    }
   ],
   "source": [
    "greet_user()#self define function"
   ]
  },
  {
   "cell_type": "code",
   "execution_count": 1,
   "metadata": {},
   "outputs": [],
   "source": [
    "def mult (a,b): #this function is called positional parameter.\n",
    "    c = a*b\n",
    "    print(c)\n",
    "    \n"
   ]
  },
  {
   "cell_type": "code",
   "execution_count": 8,
   "metadata": {},
   "outputs": [
    {
     "name": "stdout",
     "output_type": "stream",
     "text": [
      "8\n"
     ]
    }
   ],
   "source": [
    "mult(2,4)#answer lena arguement."
   ]
  },
  {
   "cell_type": "code",
   "execution_count": 11,
   "metadata": {},
   "outputs": [
    {
     "name": "stdout",
     "output_type": "stream",
     "text": [
      "500\n"
     ]
    }
   ],
   "source": [
    "mult(5,100)"
   ]
  },
  {
   "cell_type": "code",
   "execution_count": 13,
   "metadata": {},
   "outputs": [],
   "source": [
    "def add(a,b):\n",
    "    c = a+b\n",
    "    print(c)"
   ]
  },
  {
   "cell_type": "code",
   "execution_count": 15,
   "metadata": {},
   "outputs": [
    {
     "name": "stdout",
     "output_type": "stream",
     "text": [
      "1010\n"
     ]
    }
   ],
   "source": [
    "add(1000,10)"
   ]
  },
  {
   "cell_type": "code",
   "execution_count": 21,
   "metadata": {},
   "outputs": [],
   "source": [
    "def div(a,b):\n",
    "    c = a/b\n",
    "    print(c)"
   ]
  },
  {
   "cell_type": "code",
   "execution_count": 24,
   "metadata": {},
   "outputs": [
    {
     "name": "stdout",
     "output_type": "stream",
     "text": [
      "10.0\n"
     ]
    }
   ],
   "source": [
    "div(50,5)"
   ]
  },
  {
   "cell_type": "code",
   "execution_count": 25,
   "metadata": {},
   "outputs": [],
   "source": [
    "def sub(a,b):\n",
    "    c = a-b\n",
    "    print(c)"
   ]
  },
  {
   "cell_type": "code",
   "execution_count": 26,
   "metadata": {},
   "outputs": [
    {
     "name": "stdout",
     "output_type": "stream",
     "text": [
      "70\n"
     ]
    }
   ],
   "source": [
    "sub(100,30)"
   ]
  },
  {
   "cell_type": "code",
   "execution_count": 31,
   "metadata": {},
   "outputs": [],
   "source": [
    "def full_name(firstname,middlename,lastname):\n",
    "    name = firstname + middlename + lastname\n",
    "    print(name)"
   ]
  },
  {
   "cell_type": "code",
   "execution_count": 33,
   "metadata": {},
   "outputs": [
    {
     "name": "stdout",
     "output_type": "stream",
     "text": [
      "umair iqbal ansari\n"
     ]
    }
   ],
   "source": [
    "full_name(\"umair \",\"iqbal \",\"ansari\")"
   ]
  },
  {
   "cell_type": "code",
   "execution_count": 34,
   "metadata": {},
   "outputs": [],
   "source": [
    "def full_name(firstname,middlename,lastname):\n",
    "    name = firstname+\" \" + middlename+\" \" + lastname\n",
    "    print(name)"
   ]
  },
  {
   "cell_type": "code",
   "execution_count": 35,
   "metadata": {},
   "outputs": [
    {
     "name": "stdout",
     "output_type": "stream",
     "text": [
      "umair iqbal ansari\n"
     ]
    }
   ],
   "source": [
    "full_name(\"umair\",\"iqbal\",\"ansari\")"
   ]
  },
  {
   "cell_type": "code",
   "execution_count": 17,
   "metadata": {},
   "outputs": [
    {
     "name": "stdout",
     "output_type": "stream",
     "text": [
      "enter f name: u\n",
      "enter m name: m\n",
      "enter l name: a\n",
      "u m  a\n"
     ]
    }
   ],
   "source": [
    "first_name=input(\"enter f name: \")\n",
    "middle_name=input(\"enter m name: \")\n",
    "last_name=input(\"enter l name: \")\n",
    "\n",
    "def my_name(first_name ,middle_name ,last_name):\n",
    "    my_full_name = first_name + \" \" + middle_name + \"  \" + last_name\n",
    "    print(my_full_name )\n",
    "\n",
    "my_name(first_name,middle_name,last_name)\n"
   ]
  },
  {
   "cell_type": "code",
   "execution_count": 4,
   "metadata": {},
   "outputs": [
    {
     "name": "stdout",
     "output_type": "stream",
     "text": [
      "um iq  ans\n"
     ]
    }
   ],
   "source": [
    "my_name('um','iq','ans')"
   ]
  },
  {
   "cell_type": "code",
   "execution_count": 9,
   "metadata": {},
   "outputs": [
    {
     "name": "stdout",
     "output_type": "stream",
     "text": [
      "Enter your first name: umair\n",
      "Enter your middle name: iqbal\n",
      "Enter your last name: ansari\n",
      "my name is Umair Iqbal Ansari\n"
     ]
    }
   ],
   "source": [
    "def my_name():\n",
    "    first_name = input(\"Enter your first name: \")\n",
    "    middle_name = input(\"Enter your middle name: \")\n",
    "    last_name = input(\"Enter your last name: \")\n",
    "    my_full_name = first_name + \" \" + middle_name + \" \" + last_name\n",
    "    print(\"my name is \" + my_full_name.title())\n",
    "    \n",
    "my_name()"
   ]
  },
  {
   "cell_type": "code",
   "execution_count": 5,
   "metadata": {},
   "outputs": [],
   "source": [
    "def cal(a,b,operator):\n",
    "    if operator == '+':\n",
    "        c = a+b\n",
    "        print(c)\n",
    "    elif operator == '-':\n",
    "        c = a-b\n",
    "        print(c)\n",
    "    elif operator == '*':\n",
    "        c = a*b\n",
    "        print(c)\n",
    "    elif operator == '/':\n",
    "        c = a/b\n",
    "        print(c)\n",
    "    else:\n",
    "        print(\"operator undefined\")\n",
    "        \n",
    "        "
   ]
  },
  {
   "cell_type": "code",
   "execution_count": 13,
   "metadata": {},
   "outputs": [
    {
     "name": "stdout",
     "output_type": "stream",
     "text": [
      "3\n"
     ]
    }
   ],
   "source": [
    "cal(5,2,'-')"
   ]
  },
  {
   "cell_type": "code",
   "execution_count": 14,
   "metadata": {},
   "outputs": [
    {
     "name": "stdout",
     "output_type": "stream",
     "text": [
      "7\n"
     ]
    }
   ],
   "source": [
    "cal(3,4,'+')"
   ]
  },
  {
   "cell_type": "code",
   "execution_count": 15,
   "metadata": {},
   "outputs": [
    {
     "name": "stdout",
     "output_type": "stream",
     "text": [
      "0.75\n"
     ]
    }
   ],
   "source": [
    "cal(3,4,'/')"
   ]
  },
  {
   "cell_type": "code",
   "execution_count": 16,
   "metadata": {},
   "outputs": [
    {
     "name": "stdout",
     "output_type": "stream",
     "text": [
      "35\n"
     ]
    }
   ],
   "source": [
    "cal(5,7,'*')"
   ]
  },
  {
   "cell_type": "code",
   "execution_count": 17,
   "metadata": {},
   "outputs": [
    {
     "name": "stdout",
     "output_type": "stream",
     "text": [
      "operator undefined\n"
     ]
    }
   ],
   "source": [
    "cal(4,6,'%')"
   ]
  },
  {
   "cell_type": "markdown",
   "metadata": {},
   "source": [
    "# KEYWORD ARGUEMENT"
   ]
  },
  {
   "cell_type": "code",
   "execution_count": 6,
   "metadata": {},
   "outputs": [
    {
     "name": "stdout",
     "output_type": "stream",
     "text": [
      "operator undefined\n"
     ]
    }
   ],
   "source": [
    "cal(2,'+',5)"
   ]
  },
  {
   "cell_type": "code",
   "execution_count": 8,
   "metadata": {},
   "outputs": [
    {
     "name": "stdout",
     "output_type": "stream",
     "text": [
      "9\n"
     ]
    }
   ],
   "source": [
    "cal(a=4,operator='+',b=5)"
   ]
  },
  {
   "cell_type": "code",
   "execution_count": 9,
   "metadata": {},
   "outputs": [
    {
     "name": "stdout",
     "output_type": "stream",
     "text": [
      "-4\n"
     ]
    }
   ],
   "source": [
    "cal(a=5,operator='-',b=9)"
   ]
  },
  {
   "cell_type": "markdown",
   "metadata": {},
   "source": [
    "# DEFAULT PARAMETER"
   ]
  },
  {
   "cell_type": "code",
   "execution_count": 8,
   "metadata": {},
   "outputs": [
    {
     "name": "stdout",
     "output_type": "stream",
     "text": [
      "My name is umair.\n",
      "My age is 18.\n",
      "My gender is male.\n"
     ]
    }
   ],
   "source": [
    "def my_info(name, age = 18, gender = 'male'):#by default parameter example\n",
    "    print(f\"My name is {name}.\")\n",
    "    print(f\"My age is {age}.\")\n",
    "    print(f\"My gender is {gender}.\")\n",
    "    \n",
    "my_info('umair')"
   ]
  },
  {
   "cell_type": "code",
   "execution_count": 7,
   "metadata": {},
   "outputs": [
    {
     "name": "stdout",
     "output_type": "stream",
     "text": [
      "My name is umair.\n",
      "My age is 18.\n",
      "My gender is male.\n"
     ]
    }
   ],
   "source": [
    "def my_info(name, age, gender):\n",
    "    print(f\"My name is {name}.\")\n",
    "    print(f\"My age is {age}.\")\n",
    "    print(f\"My gender is {gender}.\")\n",
    "    \n",
    "my_info('umair','18','male')"
   ]
  },
  {
   "cell_type": "code",
   "execution_count": 11,
   "metadata": {},
   "outputs": [
    {
     "name": "stdout",
     "output_type": "stream",
     "text": [
      "umair ansari iqbal\n"
     ]
    }
   ],
   "source": [
    "def my_name_is(f_name , l_name, m_name=' '):#default wali value last main hamesha use karain gauin\n",
    "    if m_name:\n",
    "        full_name=f_name + ' ' + m_name + ' ' + l_name\n",
    "    else:\n",
    "        full_name = f_name + ' ' + l_name\n",
    "    return full_name\n",
    "a = my_name_is ('umair','iqbal','ansari')\n",
    "print(a)"
   ]
  },
  {
   "cell_type": "code",
   "execution_count": 14,
   "metadata": {},
   "outputs": [
    {
     "name": "stdout",
     "output_type": "stream",
     "text": [
      "hello,ali\n",
      "hello,uzair\n",
      "hello,salman\n"
     ]
    }
   ],
   "source": [
    "def my_friends(names):\n",
    "    for name in names:\n",
    "        greet = 'hello,' + name\n",
    "        print(greet)\n",
    "\n",
    "user = ['ali','uzair', 'salman']\n",
    "my_friends(user)"
   ]
  },
  {
   "cell_type": "code",
   "execution_count": 4,
   "metadata": {},
   "outputs": [
    {
     "name": "stdout",
     "output_type": "stream",
     "text": [
      "First: umair\n",
      "Last_name: iqbal\n",
      "age: 18\n"
     ]
    }
   ],
   "source": [
    "def human(f_name, l_name, age, gender='male'):\n",
    "    build_human = {'First:': f_name , 'Last_name:':l_name,'age:':age}\n",
    "    for key, value in build_human.items():\n",
    "        print(key, value)\n",
    "        \n",
    "human('umair','iqbal',18)"
   ]
  },
  {
   "cell_type": "code",
   "execution_count": 13,
   "metadata": {},
   "outputs": [
    {
     "name": "stdout",
     "output_type": "stream",
     "text": [
      "First: umair\n",
      "('ceee', 'aa', 'haha')\n",
      "Last_name: iqbal\n",
      "('ceee', 'aa', 'haha')\n",
      "age: 18\n",
      "('ceee', 'aa', 'haha')\n"
     ]
    }
   ],
   "source": [
    "def human(f_name, l_name, age, *others):#to control excess argument\n",
    "    build_human = {'First:': f_name , 'Last_name:':l_name,'age:':age}\n",
    "    for key, value in build_human.items():\n",
    "        print(key, value)\n",
    "        print(others)\n",
    "human('umair','iqbal',18, 'ceee','aa','haha')"
   ]
  },
  {
   "cell_type": "code",
   "execution_count": 16,
   "metadata": {},
   "outputs": [
    {
     "name": "stdout",
     "output_type": "stream",
     "text": [
      "First: umair\n",
      "Last_name: iqbal\n",
      "age: 18\n"
     ]
    }
   ],
   "source": [
    "def human(f_name, l_name, age,  **tooping):#double star se dictionary main le lega other values isse dekhna hai\n",
    "    build_human = {'First:': f_name , 'Last_name:':l_name,'age:':age}\n",
    "    for key, value in build_human.items():\n",
    "        print(key, value)\n",
    "        \n",
    "        \n",
    "human('umair','iqbal',18)"
   ]
  },
  {
   "cell_type": "code",
   "execution_count": null,
   "metadata": {},
   "outputs": [],
   "source": []
  }
 ],
 "metadata": {
  "kernelspec": {
   "display_name": "Python 3",
   "language": "python",
   "name": "python3"
  },
  "language_info": {
   "codemirror_mode": {
    "name": "ipython",
    "version": 3
   },
   "file_extension": ".py",
   "mimetype": "text/x-python",
   "name": "python",
   "nbconvert_exporter": "python",
   "pygments_lexer": "ipython3",
   "version": "3.7.3"
  }
 },
 "nbformat": 4,
 "nbformat_minor": 2
}
